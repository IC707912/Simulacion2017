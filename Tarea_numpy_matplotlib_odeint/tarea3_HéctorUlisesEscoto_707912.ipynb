{
 "cells": [
  {
   "cell_type": "markdown",
   "metadata": {},
   "source": [
    "# Tarea `NumPy`, `matplotlib` y `odeint`\n",
    "\n",
    "<img style=\"float: left; margin: 15px 15px 15px 15px;\" src=\"http://www.numpy.org/_static/numpy_logo.png\" title=\"NumPy\" width=\"180\" height=\"50\" />\n",
    "\n",
    "<img style=\"float: left; margin: 15px 15px 15px 15px;\" src=\"http://matplotlib.org/_static/logo2.svg\" title=\"matplotlib\" width=\"180\" height=\"50\" />\n",
    "\n",
    "<img style=\"float: left; margin: 15px 15px 15px 15px;\" src=\"https://docs.scipy.org/doc/scipy/reference/_static/img/scipy_org_logo.gif\" title=\"ScyPy\" width=\"180\" height=\"50\" />"
   ]
  },
  {
   "cell_type": "markdown",
   "metadata": {},
   "source": [
    "> **Descripción.** La idea de esta tarea es que se tomen confianza con la librería `NumPy` (Numerical Python: librería estándar para cálculos numéricos con Python), la librería `matplotlib` (libería de gráficos 2D en Python), y la función `odeint` (función para integrar un sistema de ecuaciones diferenciales ordinarias).\n",
    "\n",
    "> En cada caso, se dará una descripción de las funciones básicas de cada librería y luego habrá una lista de ejercicios a realizar.\n",
    "\n",
    "> Referencia:\n",
    "> - http://www.numpy.org/\n",
    "> - http://matplotlib.org/\n",
    "> - https://docs.scipy.org/doc/scipy/reference/generated/scipy.integrate.odeint.html#scipy.integrate.odeint"
   ]
  },
  {
   "cell_type": "markdown",
   "metadata": {},
   "source": [
    "___\n",
    "## 1. `NumPy`\n",
    "\n",
    "Para trabajar con la librería `NumPy`, lo primero que debemos hacer es importarla. Para no estar usando el nombre completo `NumPy` cada vez, la podemos importar con el nombre *np* (como es usual). Esto lo hacemos con la siguiente instrucción:"
   ]
  },
  {
   "cell_type": "code",
   "execution_count": 1,
   "metadata": {
    "collapsed": true
   },
   "outputs": [],
   "source": [
    "import numpy as np"
   ]
  },
  {
   "cell_type": "markdown",
   "metadata": {},
   "source": [
    "### 1.1 Arreglos en `NumPy`"
   ]
  },
  {
   "cell_type": "markdown",
   "metadata": {},
   "source": [
    "#### 1.1.1 Creación de arreglos y propiedades básicas\n",
    "El objeto principal en `NumPy` es el *arreglo multidimensional* **ndarray** (n-dimensional-array). Es una tabla de elementos (usualmente números), todos del mismo tipo, indexados por una *tupla* de enteros positivos. En `NumPy` las dimensiones se llaman *ejes*. El número de ejes se llama *rango*.\n",
    "\n",
    "- **ndarray.ndim**: entero que indica el número de dimensiones del arreglo.\n",
    "- **ndarray.shape**: tupla de enteros que indica el tamaño del arreglo en cada dimensión.\n",
    "- **ndarray.size**: entero que indica la cantidad total de elementos (equivale a la multiplicación de los tamaños en cada dimensión).\n",
    "\n",
    "**Ejemplos**\n",
    "- Un vector de $\\mathbb{R}^n$ tiene siempre rango uno (1). Por ejemplo, el siguiente vector de $\\mathbb{R}^3$:"
   ]
  },
  {
   "cell_type": "code",
   "execution_count": 11,
   "metadata": {},
   "outputs": [
    {
     "data": {
      "text/plain": [
       "array([3, 2, 4])"
      ]
     },
     "execution_count": 11,
     "metadata": {},
     "output_type": "execute_result"
    }
   ],
   "source": [
    "b = np.array([3, 2, 4])\n",
    "b"
   ]
  },
  {
   "cell_type": "code",
   "execution_count": 12,
   "metadata": {},
   "outputs": [
    {
     "data": {
      "text/plain": [
       "1"
      ]
     },
     "execution_count": 12,
     "metadata": {},
     "output_type": "execute_result"
    }
   ],
   "source": [
    "b.ndim"
   ]
  },
  {
   "cell_type": "code",
   "execution_count": 13,
   "metadata": {},
   "outputs": [
    {
     "data": {
      "text/plain": [
       "(3,)"
      ]
     },
     "execution_count": 13,
     "metadata": {},
     "output_type": "execute_result"
    }
   ],
   "source": [
    "b.shape"
   ]
  },
  {
   "cell_type": "code",
   "execution_count": 14,
   "metadata": {},
   "outputs": [
    {
     "data": {
      "text/plain": [
       "3"
      ]
     },
     "execution_count": 14,
     "metadata": {},
     "output_type": "execute_result"
    }
   ],
   "source": [
    "b.size"
   ]
  },
  {
   "cell_type": "markdown",
   "metadata": {},
   "source": [
    "- Una matriz de $\\mathbb{R}^{n\\times m}$ tiene dos dimensiones. Por ejemplo, la siguiente matriz de $\\mathbb{R}^{2\\times 3}$:"
   ]
  },
  {
   "cell_type": "code",
   "execution_count": 15,
   "metadata": {},
   "outputs": [
    {
     "data": {
      "text/plain": [
       "array([[1, 2, 3],\n",
       "       [4, 5, 6]])"
      ]
     },
     "execution_count": 15,
     "metadata": {},
     "output_type": "execute_result"
    }
   ],
   "source": [
    "A = np.array([[1, 2, 3], [4, 5, 6]])\n",
    "A"
   ]
  },
  {
   "cell_type": "code",
   "execution_count": 16,
   "metadata": {},
   "outputs": [
    {
     "data": {
      "text/plain": [
       "2"
      ]
     },
     "execution_count": 16,
     "metadata": {},
     "output_type": "execute_result"
    }
   ],
   "source": [
    "A.ndim"
   ]
  },
  {
   "cell_type": "code",
   "execution_count": 17,
   "metadata": {},
   "outputs": [
    {
     "data": {
      "text/plain": [
       "(2, 3)"
      ]
     },
     "execution_count": 17,
     "metadata": {},
     "output_type": "execute_result"
    }
   ],
   "source": [
    "A.shape"
   ]
  },
  {
   "cell_type": "code",
   "execution_count": 18,
   "metadata": {},
   "outputs": [
    {
     "data": {
      "text/plain": [
       "6"
      ]
     },
     "execution_count": 18,
     "metadata": {},
     "output_type": "execute_result"
    }
   ],
   "source": [
    "A.size"
   ]
  },
  {
   "cell_type": "markdown",
   "metadata": {},
   "source": [
    "Con lo anterior, vemos que podemos crear arreglos *manualmente* en `NumPy`. Es decir, escribiendo uno a uno los elementos del arreglo.\n",
    "\n",
    "Sin embargo, a veces los arreglos que queremos crear cumplen cierto *patrón* que hace posible crearlos de manera más fácil.\n",
    "\n",
    "- **np.zeros(shape)**: crea un arreglo lleno de ceros con las dimensiones especificadas en shape (shape es una tupla de enteros).\n",
    "- **np.ones(shape)**: crea un arreglo lleno de unos con las dimensiones especificadas en shape (shape es una tupla de enteros).\n",
    "- **np.eye(N)**: crea una matriz identidad de orden N (N debe ser entero).\n",
    "- **np.arange(i, f, p)**: crea un vector comenzando en i (incluyendo este valor), con pasos de tamaño p y finalizando en f (sin incluir este valor). El valor por defecto de p es 1, y el valor por defecto de i es 0.\n",
    "- **np.linspace(i, f, N)**:  crea un vector comenzando en i (incluyendo este valor), con N puntos (N entero) y finalizando en f (incluyendo este valor). El valor por defecto de N es 50."
   ]
  },
  {
   "cell_type": "markdown",
   "metadata": {},
   "source": [
    "**Ejemplos**\n",
    "- Matriz de ceros de 3x4."
   ]
  },
  {
   "cell_type": "code",
   "execution_count": 19,
   "metadata": {},
   "outputs": [
    {
     "data": {
      "text/plain": [
       "array([[ 0.,  0.,  0.,  0.],\n",
       "       [ 0.,  0.,  0.,  0.],\n",
       "       [ 0.,  0.,  0.,  0.]])"
      ]
     },
     "execution_count": 19,
     "metadata": {},
     "output_type": "execute_result"
    }
   ],
   "source": [
    "Z = np.zeros((3,4))\n",
    "Z"
   ]
  },
  {
   "cell_type": "markdown",
   "metadata": {},
   "source": [
    "- Vector de unos de 100 componentes."
   ]
  },
  {
   "cell_type": "code",
   "execution_count": 20,
   "metadata": {},
   "outputs": [
    {
     "data": {
      "text/plain": [
       "array([ 1.,  1.,  1.,  1.,  1.,  1.,  1.,  1.,  1.,  1.,  1.,  1.,  1.,\n",
       "        1.,  1.,  1.,  1.,  1.,  1.,  1.,  1.,  1.,  1.,  1.,  1.,  1.,\n",
       "        1.,  1.,  1.,  1.,  1.,  1.,  1.,  1.,  1.,  1.,  1.,  1.,  1.,\n",
       "        1.,  1.,  1.,  1.,  1.,  1.,  1.,  1.,  1.,  1.,  1.,  1.,  1.,\n",
       "        1.,  1.,  1.,  1.,  1.,  1.,  1.,  1.,  1.,  1.,  1.,  1.,  1.,\n",
       "        1.,  1.,  1.,  1.,  1.,  1.,  1.,  1.,  1.,  1.,  1.,  1.,  1.,\n",
       "        1.,  1.,  1.,  1.,  1.,  1.,  1.,  1.,  1.,  1.,  1.,  1.,  1.,\n",
       "        1.,  1.,  1.,  1.,  1.,  1.,  1.,  1.,  1.])"
      ]
     },
     "execution_count": 20,
     "metadata": {},
     "output_type": "execute_result"
    }
   ],
   "source": [
    "u = np.ones(100)\n",
    "u"
   ]
  },
  {
   "cell_type": "markdown",
   "metadata": {},
   "source": [
    "- Matriz identidad de orden 4."
   ]
  },
  {
   "cell_type": "code",
   "execution_count": 21,
   "metadata": {},
   "outputs": [
    {
     "data": {
      "text/plain": [
       "array([[ 1.,  0.,  0.,  0.],\n",
       "       [ 0.,  1.,  0.,  0.],\n",
       "       [ 0.,  0.,  1.,  0.],\n",
       "       [ 0.,  0.,  0.,  1.]])"
      ]
     },
     "execution_count": 21,
     "metadata": {},
     "output_type": "execute_result"
    }
   ],
   "source": [
    "I = np.eye(4)\n",
    "I"
   ]
  },
  {
   "cell_type": "markdown",
   "metadata": {},
   "source": [
    "- Secuencia de 4 a 9 con pasos de 0.3."
   ]
  },
  {
   "cell_type": "code",
   "execution_count": 22,
   "metadata": {},
   "outputs": [
    {
     "data": {
      "text/plain": [
       "array([ 4. ,  4.3,  4.6,  4.9,  5.2,  5.5,  5.8,  6.1,  6.4,  6.7,  7. ,\n",
       "        7.3,  7.6,  7.9,  8.2,  8.5,  8.8])"
      ]
     },
     "execution_count": 22,
     "metadata": {},
     "output_type": "execute_result"
    }
   ],
   "source": [
    "s = np.arange(4, 9, 0.3)\n",
    "s"
   ]
  },
  {
   "cell_type": "markdown",
   "metadata": {},
   "source": [
    "- Secuencia de 4 a 9 con 20 puntos."
   ]
  },
  {
   "cell_type": "code",
   "execution_count": 23,
   "metadata": {},
   "outputs": [
    {
     "data": {
      "text/plain": [
       "array([ 4.        ,  4.26315789,  4.52631579,  4.78947368,  5.05263158,\n",
       "        5.31578947,  5.57894737,  5.84210526,  6.10526316,  6.36842105,\n",
       "        6.63157895,  6.89473684,  7.15789474,  7.42105263,  7.68421053,\n",
       "        7.94736842,  8.21052632,  8.47368421,  8.73684211,  9.        ])"
      ]
     },
     "execution_count": 23,
     "metadata": {},
     "output_type": "execute_result"
    }
   ],
   "source": [
    "s2 = np.linspace(4, 9, 20)\n",
    "s2"
   ]
  },
  {
   "cell_type": "markdown",
   "metadata": {},
   "source": [
    "Las últimas dos funciones son especialmente útiles para crear vectores de tiempo, como hemos visto en clase."
   ]
  },
  {
   "cell_type": "markdown",
   "metadata": {},
   "source": [
    "#### 1.1.2 Operaciones básicas\n",
    "Todas las operaciones básicas sobre arreglos son aplicadas a cada elemento del arreglo. Un nuevo arreglo es creado y llenado con el resultado.\n",
    "\n",
    "**Ejemplo**\n",
    "- Primero, creamos dos vectores con el mismo tamaño:"
   ]
  },
  {
   "cell_type": "code",
   "execution_count": 24,
   "metadata": {
    "collapsed": true
   },
   "outputs": [],
   "source": [
    "a = np.arange(0,20,5)\n",
    "b = np.arange(4)"
   ]
  },
  {
   "cell_type": "markdown",
   "metadata": {},
   "source": [
    "- Dado que `a` y `b` tienen la misma cantidad de elementos, podemos aplicar todas las operaciones aritméticas básicas."
   ]
  },
  {
   "cell_type": "code",
   "execution_count": 25,
   "metadata": {},
   "outputs": [
    {
     "data": {
      "text/plain": [
       "array([ 0,  6, 12, 18])"
      ]
     },
     "execution_count": 25,
     "metadata": {},
     "output_type": "execute_result"
    }
   ],
   "source": [
    "a + b"
   ]
  },
  {
   "cell_type": "code",
   "execution_count": 26,
   "metadata": {},
   "outputs": [
    {
     "data": {
      "text/plain": [
       "array([ 0,  4,  8, 12])"
      ]
     },
     "execution_count": 26,
     "metadata": {},
     "output_type": "execute_result"
    }
   ],
   "source": [
    "a - b"
   ]
  },
  {
   "cell_type": "code",
   "execution_count": 27,
   "metadata": {},
   "outputs": [
    {
     "data": {
      "text/plain": [
       "array([1, 2, 3, 4])"
      ]
     },
     "execution_count": 27,
     "metadata": {},
     "output_type": "execute_result"
    }
   ],
   "source": [
    "b = b + 1\n",
    "b"
   ]
  },
  {
   "cell_type": "markdown",
   "metadata": {},
   "source": [
    "Notar que si se suma un número a un vector, se le suma este número a cada componente del vector."
   ]
  },
  {
   "cell_type": "code",
   "execution_count": 28,
   "metadata": {},
   "outputs": [
    {
     "data": {
      "text/plain": [
       "array([ 0.        ,  2.5       ,  3.33333333,  3.75      ])"
      ]
     },
     "execution_count": 28,
     "metadata": {},
     "output_type": "execute_result"
    }
   ],
   "source": [
    "a / b"
   ]
  },
  {
   "cell_type": "code",
   "execution_count": 29,
   "metadata": {},
   "outputs": [
    {
     "data": {
      "text/plain": [
       "array([ 0, 10, 30, 60])"
      ]
     },
     "execution_count": 29,
     "metadata": {},
     "output_type": "execute_result"
    }
   ],
   "source": [
    "a*b"
   ]
  },
  {
   "cell_type": "markdown",
   "metadata": {},
   "source": [
    "- También podemos aplicar la potenciación entre estos dos vectores:"
   ]
  },
  {
   "cell_type": "code",
   "execution_count": 30,
   "metadata": {},
   "outputs": [
    {
     "data": {
      "text/plain": [
       "array([    0,    25,  1000, 50625])"
      ]
     },
     "execution_count": 30,
     "metadata": {},
     "output_type": "execute_result"
    }
   ],
   "source": [
    "a**b"
   ]
  },
  {
   "cell_type": "markdown",
   "metadata": {},
   "source": [
    "- O bien, elevar un vector a la un número:"
   ]
  },
  {
   "cell_type": "code",
   "execution_count": 31,
   "metadata": {},
   "outputs": [
    {
     "data": {
      "text/plain": [
       "array([  0,  25, 100, 225])"
      ]
     },
     "execution_count": 31,
     "metadata": {},
     "output_type": "execute_result"
    }
   ],
   "source": [
    "a**2"
   ]
  },
  {
   "cell_type": "markdown",
   "metadata": {},
   "source": [
    "- También podemos aplicar funciones."
   ]
  },
  {
   "cell_type": "code",
   "execution_count": 32,
   "metadata": {},
   "outputs": [
    {
     "data": {
      "text/plain": [
       "array([ 0.        , -0.95892427, -0.54402111,  0.65028784])"
      ]
     },
     "execution_count": 32,
     "metadata": {},
     "output_type": "execute_result"
    }
   ],
   "source": [
    "np.sin(a)"
   ]
  },
  {
   "cell_type": "code",
   "execution_count": 33,
   "metadata": {},
   "outputs": [
    {
     "data": {
      "text/plain": [
       "array([  1.00000000e+00,   1.48413159e+02,   2.20264658e+04,\n",
       "         3.26901737e+06])"
      ]
     },
     "execution_count": 33,
     "metadata": {},
     "output_type": "execute_result"
    }
   ],
   "source": [
    "np.exp(a)"
   ]
  },
  {
   "cell_type": "code",
   "execution_count": 34,
   "metadata": {},
   "outputs": [
    {
     "data": {
      "text/plain": [
       "array([ 0.        ,  2.23606798,  3.16227766,  3.87298335])"
      ]
     },
     "execution_count": 34,
     "metadata": {},
     "output_type": "execute_result"
    }
   ],
   "source": [
    "np.sqrt(a)"
   ]
  },
  {
   "cell_type": "markdown",
   "metadata": {},
   "source": [
    "- Ahora, creamos dos matrices del mismo tamaño"
   ]
  },
  {
   "cell_type": "code",
   "execution_count": 35,
   "metadata": {
    "collapsed": true
   },
   "outputs": [],
   "source": [
    "A = np.array([[1, 1], [0, 1]])\n",
    "B = np.array([[2, 0], [3, 4]])"
   ]
  },
  {
   "cell_type": "markdown",
   "metadata": {},
   "source": [
    "- Producto componente a componente"
   ]
  },
  {
   "cell_type": "code",
   "execution_count": 36,
   "metadata": {},
   "outputs": [
    {
     "data": {
      "text/plain": [
       "array([[2, 0],\n",
       "       [0, 4]])"
      ]
     },
     "execution_count": 36,
     "metadata": {},
     "output_type": "execute_result"
    }
   ],
   "source": [
    "A*B"
   ]
  },
  {
   "cell_type": "markdown",
   "metadata": {},
   "source": [
    "- Producto matricial"
   ]
  },
  {
   "cell_type": "code",
   "execution_count": 37,
   "metadata": {},
   "outputs": [
    {
     "data": {
      "text/plain": [
       "array([[5, 4],\n",
       "       [3, 4]])"
      ]
     },
     "execution_count": 37,
     "metadata": {},
     "output_type": "execute_result"
    }
   ],
   "source": [
    "np.dot(A,B)"
   ]
  },
  {
   "cell_type": "markdown",
   "metadata": {},
   "source": [
    "#### 1.1.3 Indizado de arreglos\n",
    "Muchas veces se está interesado en una(s) componente(s) específica(s) de un vector y no en el vector como tal. La extracción de la(s) componente(s) de un vector con `NumPy` es muy sencilla, siempre recordando que el índice de los objetos en `Python` comienza en cero (0).\n",
    "\n",
    "**Ejemplo**\n",
    "- Creamos un vector que contiene las potencias cuadradas de los números enteros del 0 al 9:"
   ]
  },
  {
   "cell_type": "code",
   "execution_count": 38,
   "metadata": {},
   "outputs": [
    {
     "data": {
      "text/plain": [
       "array([ 0,  1,  4,  9, 16, 25, 36, 49, 64, 81])"
      ]
     },
     "execution_count": 38,
     "metadata": {},
     "output_type": "execute_result"
    }
   ],
   "source": [
    "a = np.arange(10)**2\n",
    "a"
   ]
  },
  {
   "cell_type": "markdown",
   "metadata": {},
   "source": [
    "- Queremos ver la tercer componente de este vector, es decir $2^2$."
   ]
  },
  {
   "cell_type": "code",
   "execution_count": 39,
   "metadata": {},
   "outputs": [
    {
     "data": {
      "text/plain": [
       "4"
      ]
     },
     "execution_count": 39,
     "metadata": {},
     "output_type": "execute_result"
    }
   ],
   "source": [
    "a[2]"
   ]
  },
  {
   "cell_type": "markdown",
   "metadata": {},
   "source": [
    "- Queremos ver de la tercer a la quinta componente."
   ]
  },
  {
   "cell_type": "code",
   "execution_count": 40,
   "metadata": {},
   "outputs": [
    {
     "data": {
      "text/plain": [
       "array([ 4,  9, 16])"
      ]
     },
     "execution_count": 40,
     "metadata": {},
     "output_type": "execute_result"
    }
   ],
   "source": [
    "a[2:5]"
   ]
  },
  {
   "cell_type": "markdown",
   "metadata": {},
   "source": [
    "- Queremos ver de la tercer componente en adelante."
   ]
  },
  {
   "cell_type": "code",
   "execution_count": 41,
   "metadata": {},
   "outputs": [
    {
     "data": {
      "text/plain": [
       "array([ 4,  9, 16, 25, 36, 49, 64, 81])"
      ]
     },
     "execution_count": 41,
     "metadata": {},
     "output_type": "execute_result"
    }
   ],
   "source": [
    "a[2:]"
   ]
  },
  {
   "cell_type": "markdown",
   "metadata": {},
   "source": [
    "- Queremos ver las primeras tres componentes."
   ]
  },
  {
   "cell_type": "code",
   "execution_count": 42,
   "metadata": {},
   "outputs": [
    {
     "data": {
      "text/plain": [
       "array([0, 1, 4])"
      ]
     },
     "execution_count": 42,
     "metadata": {},
     "output_type": "execute_result"
    }
   ],
   "source": [
    "a[:3]"
   ]
  },
  {
   "cell_type": "markdown",
   "metadata": {},
   "source": [
    "- Ahora, el indizado de arreglos de más de una dimensión es similar. Para esto, organizamos los elementos del vector a en una matriz de 2 filas y 5 columnas:"
   ]
  },
  {
   "cell_type": "code",
   "execution_count": 43,
   "metadata": {},
   "outputs": [
    {
     "data": {
      "text/plain": [
       "array([[ 0,  1,  4,  9, 16],\n",
       "       [25, 36, 49, 64, 81]])"
      ]
     },
     "execution_count": 43,
     "metadata": {},
     "output_type": "execute_result"
    }
   ],
   "source": [
    "A = a.reshape(2, 5)\n",
    "A"
   ]
  },
  {
   "cell_type": "markdown",
   "metadata": {},
   "source": [
    "- Tomamos el elemento ubicado en la fila 2 columna 4."
   ]
  },
  {
   "cell_type": "code",
   "execution_count": 44,
   "metadata": {},
   "outputs": [
    {
     "data": {
      "text/plain": [
       "64"
      ]
     },
     "execution_count": 44,
     "metadata": {},
     "output_type": "execute_result"
    }
   ],
   "source": [
    "a24 = A[1, 3]\n",
    "a24"
   ]
  },
  {
   "cell_type": "markdown",
   "metadata": {},
   "source": [
    "- Tomamos la primer fila de A."
   ]
  },
  {
   "cell_type": "code",
   "execution_count": 45,
   "metadata": {},
   "outputs": [
    {
     "data": {
      "text/plain": [
       "array([ 0,  1,  4,  9, 16])"
      ]
     },
     "execution_count": 45,
     "metadata": {},
     "output_type": "execute_result"
    }
   ],
   "source": [
    "a1 = A[0, :]\n",
    "a1"
   ]
  },
  {
   "cell_type": "markdown",
   "metadata": {},
   "source": [
    "- Tomamos las columnas 3 y 4 de A."
   ]
  },
  {
   "cell_type": "code",
   "execution_count": 46,
   "metadata": {},
   "outputs": [
    {
     "data": {
      "text/plain": [
       "array([[ 4,  9],\n",
       "       [49, 64]])"
      ]
     },
     "execution_count": 46,
     "metadata": {},
     "output_type": "execute_result"
    }
   ],
   "source": [
    "B = A[:, 2:4]\n",
    "B"
   ]
  },
  {
   "cell_type": "markdown",
   "metadata": {},
   "source": [
    "### 1.2 Álgebra lineal básica\n",
    "Ya que podemos definir arreglos multidimensionales, en particular de dimensión uno (vectores) y dimensión dos (matrices), podemos utilizar varias herramientas de álgebra lineal.\n",
    "\n",
    "**Ejemplo**\n",
    "- Definimos una matriz de $\\mathbb{R}^{2\\times 2}$ con los números del uno al cuatro:"
   ]
  },
  {
   "cell_type": "code",
   "execution_count": 48,
   "metadata": {},
   "outputs": [
    {
     "data": {
      "text/plain": [
       "array([[1, 2],\n",
       "       [3, 4]])"
      ]
     },
     "execution_count": 48,
     "metadata": {},
     "output_type": "execute_result"
    }
   ],
   "source": [
    "A = np.arange(1, 5).reshape(2,2)\n",
    "A"
   ]
  },
  {
   "cell_type": "markdown",
   "metadata": {},
   "source": [
    "- Podemos obtener la matriz transpuesta."
   ]
  },
  {
   "cell_type": "code",
   "execution_count": 50,
   "metadata": {},
   "outputs": [
    {
     "data": {
      "text/plain": [
       "array([[1, 3],\n",
       "       [2, 4]])"
      ]
     },
     "execution_count": 50,
     "metadata": {},
     "output_type": "execute_result"
    }
   ],
   "source": [
    "A.transpose()"
   ]
  },
  {
   "cell_type": "markdown",
   "metadata": {},
   "source": [
    "- Podemos obtener los valores y vectores propios."
   ]
  },
  {
   "cell_type": "code",
   "execution_count": 52,
   "metadata": {},
   "outputs": [
    {
     "data": {
      "text/plain": [
       "array([-0.37228132,  5.37228132])"
      ]
     },
     "execution_count": 52,
     "metadata": {},
     "output_type": "execute_result"
    }
   ],
   "source": [
    "D, V = np.linalg.eig(A)\n",
    "D"
   ]
  },
  {
   "cell_type": "code",
   "execution_count": 53,
   "metadata": {},
   "outputs": [
    {
     "data": {
      "text/plain": [
       "array([[-0.82456484, -0.41597356],\n",
       "       [ 0.56576746, -0.90937671]])"
      ]
     },
     "execution_count": 53,
     "metadata": {},
     "output_type": "execute_result"
    }
   ],
   "source": [
    "V"
   ]
  },
  {
   "cell_type": "markdown",
   "metadata": {},
   "source": [
    "- Podemos sacar el determinante de la matriz."
   ]
  },
  {
   "cell_type": "code",
   "execution_count": 63,
   "metadata": {},
   "outputs": [
    {
     "data": {
      "text/plain": [
       "-2.0000000000000004"
      ]
     },
     "execution_count": 63,
     "metadata": {},
     "output_type": "execute_result"
    }
   ],
   "source": [
    "detA = np.linalg.det(A)\n",
    "detA"
   ]
  },
  {
   "cell_type": "markdown",
   "metadata": {},
   "source": [
    "- Podemos invertir la matriz."
   ]
  },
  {
   "cell_type": "code",
   "execution_count": 54,
   "metadata": {},
   "outputs": [
    {
     "data": {
      "text/plain": [
       "array([[-2. ,  1. ],\n",
       "       [ 1.5, -0.5]])"
      ]
     },
     "execution_count": 54,
     "metadata": {},
     "output_type": "execute_result"
    }
   ],
   "source": [
    "invA = np.linalg.inv(A)\n",
    "invA"
   ]
  },
  {
   "cell_type": "code",
   "execution_count": 56,
   "metadata": {},
   "outputs": [
    {
     "data": {
      "text/plain": [
       "array([[  1.00000000e+00,   4.44089210e-16],\n",
       "       [  0.00000000e+00,   1.00000000e+00]])"
      ]
     },
     "execution_count": 56,
     "metadata": {},
     "output_type": "execute_result"
    }
   ],
   "source": [
    "np.dot(invA,A)"
   ]
  },
  {
   "cell_type": "markdown",
   "metadata": {},
   "source": [
    "- Podemos resolver sistemas lineales de la forma $Ax=b$."
   ]
  },
  {
   "cell_type": "code",
   "execution_count": 58,
   "metadata": {},
   "outputs": [
    {
     "data": {
      "text/plain": [
       "array([-2. ,  1.5])"
      ]
     },
     "execution_count": 58,
     "metadata": {},
     "output_type": "execute_result"
    }
   ],
   "source": [
    "b = np.array([1, 0])\n",
    "x = np.dot(invA,b)\n",
    "x"
   ]
  },
  {
   "cell_type": "code",
   "execution_count": 61,
   "metadata": {},
   "outputs": [
    {
     "data": {
      "text/plain": [
       "array([-2. ,  1.5])"
      ]
     },
     "execution_count": 61,
     "metadata": {},
     "output_type": "execute_result"
    }
   ],
   "source": [
    "x = np.linalg.solve(A, b)\n",
    "x"
   ]
  },
  {
   "cell_type": "markdown",
   "metadata": {},
   "source": [
    "### 1.3 Ejercicios con `NumPy`\n",
    "\n",
    "#### 1.3.1 Haciendo figuritas con matrices\n",
    "Con la función `matshow` del paquete `pyplot` de la librería  `matplotlib` sirve para dibujar matrices. Por ejemplo, la matriz identidad de orden 10 luce de la siguiente manera"
   ]
  },
  {
   "cell_type": "code",
   "execution_count": 2,
   "metadata": {
    "collapsed": true
   },
   "outputs": [],
   "source": [
    "import matplotlib.pyplot as plt\n",
    "%matplotlib inline"
   ]
  },
  {
   "cell_type": "code",
   "execution_count": 9,
   "metadata": {},
   "outputs": [
    {
     "data": {
      "text/plain": [
       "<matplotlib.figure.Figure at 0x7fd9f9600da0>"
      ]
     },
     "metadata": {},
     "output_type": "display_data"
    },
    {
     "data": {
      "image/png": "[encoded data removed]",
      "text/plain": [
       "<matplotlib.figure.Figure at 0x7fd9f9600e10>"
      ]
     },
     "metadata": {},
     "output_type": "display_data"
    }
   ],
   "source": [
    "I10 = np.eye(10)\n",
    "plt.figure()\n",
    "plt.matshow(I10, cmap=plt.cm.gray)\n",
    "plt.show()"
   ]
  },
  {
   "cell_type": "markdown",
   "metadata": {},
   "source": [
    "Podemos utilizar esto para dibujar letras. Por ejemplo la letra **E** se podría dibujar de la siguiente manera"
   ]
  },
  {
   "cell_type": "code",
   "execution_count": 10,
   "metadata": {},
   "outputs": [
    {
     "data": {
      "text/plain": [
       "<matplotlib.figure.Figure at 0x7fd9f95a77f0>"
      ]
     },
     "metadata": {},
     "output_type": "display_data"
    },
    {
     "data": {
      "image/png": "[encoded data removed]",
      "text/plain": [
       "<matplotlib.figure.Figure at 0x7fd9f95a7940>"
      ]
     },
     "metadata": {},
     "output_type": "display_data"
    }
   ],
   "source": [
    "E = np.zeros((9, 9))\n",
    "E[0, :] = 1\n",
    "E[:, 0] = 1\n",
    "E[4 ,:] = 1\n",
    "E[-1, :] = 1\n",
    "plt.figure()\n",
    "plt.matshow(E, cmap=plt.cm.gray)\n",
    "plt.show()"
   ]
  },
  {
   "cell_type": "markdown",
   "metadata": {},
   "source": [
    "Otro ejemplo, pintando la mitad de la matriz..."
   ]
  },
  {
   "cell_type": "code",
   "execution_count": 11,
   "metadata": {},
   "outputs": [
    {
     "data": {
      "text/plain": [
       "<matplotlib.figure.Figure at 0x7fd9f95acda0>"
      ]
     },
     "metadata": {},
     "output_type": "display_data"
    },
    {
     "data": {
      "image/png": "[encoded data removed]",
      "text/plain": [
       "<matplotlib.figure.Figure at 0x7fd9f95acc50>"
      ]
     },
     "metadata": {},
     "output_type": "display_data"
    }
   ],
   "source": [
    "M = np.zeros((10, 10))\n",
    "M[0:5, :] = 1\n",
    "plt.figure()\n",
    "plt.matshow(M, cmap=plt.cm.gray)\n",
    "plt.show()"
   ]
  },
  {
   "cell_type": "markdown",
   "metadata": {},
   "source": [
    "El ejercicio consiste en obtener tres figuras:\n",
    "- La primera debe ser la inicial de su nombre\n",
    "- Las otras dos figuras son las que se muestran a continuación\n",
    "\n",
    "<img style=\"float: left; margin: 15px 15px 15px 15px;\" src=\"figura2.png\" title=\"figura2\" width=\"180\" height=\"50\" />\n",
    "\n",
    "<img style=\"float: left; margin: 15px 15px 15px 15px;\" src=\"figura3.png\" title=\"figura3\" width=\"180\" height=\"50\" />"
   ]
  },
  {
   "cell_type": "code",
   "execution_count": 11,
   "metadata": {},
   "outputs": [
    {
     "data": {
      "text/plain": [
       "<matplotlib.figure.Figure at 0x16db7016128>"
      ]
     },
     "metadata": {},
     "output_type": "display_data"
    },
    {
     "data": {
      "image/png": "[encoded data removed]",
      "text/plain": [
       "<matplotlib.figure.Figure at 0x16db70dce10>"
      ]
     },
     "metadata": {},
     "output_type": "display_data"
    }
   ],
   "source": [
    "import matplotlib.pyplot as plt\n",
    "%matplotlib inline\n",
    "U = np.zeros((9, 9))\n",
    "U[:, 8] = 1\n",
    "U[:, 0] = 1\n",
    "U[-1, :] = 1\n",
    "plt.figure()\n",
    "plt.matshow(U, cmap=plt.cm.gray)\n",
    "plt.show()"
   ]
  },
  {
   "cell_type": "code",
   "execution_count": 77,
   "metadata": {},
   "outputs": [
    {
     "data": {
      "text/plain": [
       "<matplotlib.figure.Figure at 0x16db7034780>"
      ]
     },
     "metadata": {},
     "output_type": "display_data"
    },
    {
     "data": {
      "image/png": "[encoded data removed]",
      "text/plain": [
       "<matplotlib.figure.Figure at 0x16db6fffe10>"
      ]
     },
     "metadata": {},
     "output_type": "display_data"
    }
   ],
   "source": [
    "import matplotlib.pyplot as plt\n",
    "%matplotlib inline\n",
    "M = np.zeros((50, 50))\n",
    "M[23:, 23:] = 1\n",
    "plt.figure()\n",
    "plt.matshow(M, cmap=plt.cm.gray)\n",
    "plt.show()"
   ]
  },
  {
   "cell_type": "code",
   "execution_count": 149,
   "metadata": {},
   "outputs": [
    {
     "ename": "TypeError",
     "evalue": "data type not understood",
     "output_type": "error",
     "traceback": [
      "\u001b[1;31m---------------------------------------------------------------------------\u001b[0m",
      "\u001b[1;31mTypeError\u001b[0m                                 Traceback (most recent call last)",
      "\u001b[1;32m<ipython-input-149-acadb39f1ae8>\u001b[0m in \u001b[0;36m<module>\u001b[1;34m()\u001b[0m\n\u001b[0;32m      2\u001b[0m \u001b[0mget_ipython\u001b[0m\u001b[1;33m(\u001b[0m\u001b[1;33m)\u001b[0m\u001b[1;33m.\u001b[0m\u001b[0mmagic\u001b[0m\u001b[1;33m(\u001b[0m\u001b[1;34m'matplotlib inline'\u001b[0m\u001b[1;33m)\u001b[0m\u001b[1;33m\u001b[0m\u001b[0m\n\u001b[0;32m      3\u001b[0m \u001b[1;33m\u001b[0m\u001b[0m\n\u001b[1;32m----> 4\u001b[1;33m \u001b[0mI\u001b[0m \u001b[1;33m=\u001b[0m \u001b[0mnp\u001b[0m\u001b[1;33m.\u001b[0m\u001b[0meye\u001b[0m\u001b[1;33m(\u001b[0m\u001b[1;36m50\u001b[0m\u001b[1;33m,\u001b[0m\u001b[1;36m50\u001b[0m\u001b[1;33m,\u001b[0m\u001b[0mdtype\u001b[0m\u001b[1;33m=\u001b[0m\u001b[0mopen\u001b[0m\u001b[1;33m)\u001b[0m\u001b[1;33m\u001b[0m\u001b[0m\n\u001b[0m\u001b[0;32m      5\u001b[0m \u001b[0mplt\u001b[0m\u001b[1;33m.\u001b[0m\u001b[0mfigure\u001b[0m\u001b[1;33m(\u001b[0m\u001b[1;33m)\u001b[0m\u001b[1;33m\u001b[0m\u001b[0m\n\u001b[0;32m      6\u001b[0m \u001b[0mplt\u001b[0m\u001b[1;33m.\u001b[0m\u001b[0mmatshow\u001b[0m\u001b[1;33m(\u001b[0m\u001b[0mI\u001b[0m\u001b[1;33m,\u001b[0m \u001b[0mcmap\u001b[0m\u001b[1;33m=\u001b[0m\u001b[0mplt\u001b[0m\u001b[1;33m.\u001b[0m\u001b[0mcm\u001b[0m\u001b[1;33m.\u001b[0m\u001b[0mgray\u001b[0m\u001b[1;33m)\u001b[0m\u001b[1;33m\u001b[0m\u001b[0m\n",
      "\u001b[1;32mC:\\Users\\Hector\\Anaconda3\\lib\\site-packages\\numpy\\lib\\twodim_base.py\u001b[0m in \u001b[0;36meye\u001b[1;34m(N, M, k, dtype)\u001b[0m\n\u001b[0;32m    178\u001b[0m     \u001b[1;32mif\u001b[0m \u001b[0mM\u001b[0m \u001b[1;32mis\u001b[0m \u001b[1;32mNone\u001b[0m\u001b[1;33m:\u001b[0m\u001b[1;33m\u001b[0m\u001b[0m\n\u001b[0;32m    179\u001b[0m         \u001b[0mM\u001b[0m \u001b[1;33m=\u001b[0m \u001b[0mN\u001b[0m\u001b[1;33m\u001b[0m\u001b[0m\n\u001b[1;32m--> 180\u001b[1;33m     \u001b[0mm\u001b[0m \u001b[1;33m=\u001b[0m \u001b[0mzeros\u001b[0m\u001b[1;33m(\u001b[0m\u001b[1;33m(\u001b[0m\u001b[0mN\u001b[0m\u001b[1;33m,\u001b[0m \u001b[0mM\u001b[0m\u001b[1;33m)\u001b[0m\u001b[1;33m,\u001b[0m \u001b[0mdtype\u001b[0m\u001b[1;33m=\u001b[0m\u001b[0mdtype\u001b[0m\u001b[1;33m)\u001b[0m\u001b[1;33m\u001b[0m\u001b[0m\n\u001b[0m\u001b[0;32m    181\u001b[0m     \u001b[1;32mif\u001b[0m \u001b[0mk\u001b[0m \u001b[1;33m>=\u001b[0m \u001b[0mM\u001b[0m\u001b[1;33m:\u001b[0m\u001b[1;33m\u001b[0m\u001b[0m\n\u001b[0;32m    182\u001b[0m         \u001b[1;32mreturn\u001b[0m \u001b[0mm\u001b[0m\u001b[1;33m\u001b[0m\u001b[0m\n",
      "\u001b[1;31mTypeError\u001b[0m: data type not understood"
     ]
    }
   ],
   "source": [
    "import matplotlib.pyplot as plt\n",
    "%matplotlib inline\n",
    "\n",
    "I = np.eye(50,50,dtype=open)\n",
    "plt.figure()\n",
    "plt.matshow(I, cmap=plt.cm.gray)\n",
    "plt.show()\n",
    "# INTENTO 1 FALLIDO"
   ]
  },
  {
   "cell_type": "code",
   "execution_count": 159,
   "metadata": {},
   "outputs": [
    {
     "data": {
      "text/plain": [
       "<matplotlib.figure.Figure at 0x16db76af6d8>"
      ]
     },
     "metadata": {},
     "output_type": "display_data"
    },
    {
     "data": {
      "image/png": "[encoded data removed]",
      "text/plain": [
       "<matplotlib.figure.Figure at 0x16db6021898>"
      ]
     },
     "metadata": {},
     "output_type": "display_data"
    }
   ],
   "source": [
    "import matplotlib.pyplot as plt\n",
    "%matplotlib inline  \n",
    "\n",
    "A = np.zeros((25,25))\n",
    "A[0:1, 0:] = 1\n",
    "A[1:2,1:] = 1\n",
    "A[2:3, 2:] = 1\n",
    "A[3:4, 3:] = 1\n",
    "A[4:5, 4:] = 1\n",
    "A[5:6, 5:] = 1\n",
    "A[6:7, 6:] = 1\n",
    "A[7:8, 7:] = 1\n",
    "A[8:9, 8:] = 1\n",
    "A[9:10, 9:] = 1\n",
    "A[10:11, 10:] = 1\n",
    "A[11:12, 11:] = 1\n",
    "A[12:13, 12:] = 1 \n",
    "A[13:14, 13:] = 1\n",
    "A[14:15, 14:] = 1\n",
    "A[15:16, 15:] = 1\n",
    "A[16:17, 16:] = 1\n",
    "A[17:18, 17:] = 1\n",
    "A[18:19, 18:] = 1\n",
    "A[19:20, 19:] = 1\n",
    "A[20:21, 20:] = 1\n",
    "A[21:22, 21:] = 1\n",
    "A[22:23, 22:] = 1\n",
    "A[23:24, 23:] = 1\n",
    "A[24:25, 24:] = 1\n",
    "plt.figure()\n",
    "plt.matshow(A, cmap=plt.cm.gray)\n",
    "plt.show()"
   ]
  },
  {
   "cell_type": "markdown",
   "metadata": {},
   "source": [
    "#### 1.3.2 Aproximemos $\\pi$ mediante una serie\n",
    "En los cursos básicos de programación nos enseñan a realizar sumas con ayuda de estructuras `for`. Por ejemplo, si queremos realizar la suma de los primeros $N$ términos de la forma $\\left(\\frac{1}{2}\\right)^n$, es decir\n",
    "\n",
    "$$\\sum_{n=0}^{N} \\left(\\frac{1}{2}\\right)^n,$$\n",
    "\n",
    "con ayuda de una estructura `for` el código sería más o menos:"
   ]
  },
  {
   "cell_type": "code",
   "execution_count": 18,
   "metadata": {},
   "outputs": [
    {
     "name": "stdout",
     "output_type": "stream",
     "text": [
      "El resultado de la suma es 1.9375\n"
     ]
    }
   ],
   "source": [
    "N = 5\n",
    "suma = 0\n",
    "for n in range(N):\n",
    "    suma += (1/2)**n\n",
    "    \n",
    "print('El resultado de la suma es', suma)"
   ]
  },
  {
   "cell_type": "markdown",
   "metadata": {},
   "source": [
    "Sin embargo, dado que `NumPy` nos ofrece la capacidad de operar con vectores, el anterior cálculo se puede hacer de forma más concisa como"
   ]
  },
  {
   "cell_type": "code",
   "execution_count": 19,
   "metadata": {},
   "outputs": [
    {
     "name": "stdout",
     "output_type": "stream",
     "text": [
      "El resultado de la suma es 1.9375\n"
     ]
    }
   ],
   "source": [
    "terminos = (1/2)**np.arange(N)\n",
    "suma = np.sum(terminos)\n",
    "\n",
    "print('El resultado de la suma es', suma)"
   ]
  },
  {
   "cell_type": "markdown",
   "metadata": {},
   "source": [
    "Por otra parte, notemos que cuando $N\\to \\infty$, la suma infinita (serie) converge a $2$. No podemos generar infinitos términos para sumarlos. Sin embargo, si podemos generar tantos términos como queramos.\n",
    "\n",
    "Notemos que para tener una precisión de 4 cifras decimales en la anterior suma, es necesario sumar únicamente los primeros 15 términos"
   ]
  },
  {
   "cell_type": "code",
   "execution_count": 20,
   "metadata": {},
   "outputs": [
    {
     "name": "stdout",
     "output_type": "stream",
     "text": [
      "El resultado de la suma es 1.99993896484\n"
     ]
    }
   ],
   "source": [
    "terminos = (1/2)**np.arange(15)\n",
    "suma = np.sum(terminos)\n",
    "\n",
    "print('El resultado de la suma es', suma)"
   ]
  },
  {
   "cell_type": "markdown",
   "metadata": {},
   "source": [
    "Ya que sabemos aproximar sumas infinitas, utilizaremos este resultado para aproximar el número irracional $\\pi$.\n",
    "\n",
    "Es sabido que la siguiente serie converge a $\\frac{\\pi}{4}$ (https://es.wikipedia.org/wiki/Serie_de_Leibniz)\n",
    "\n",
    "$$\\sum_{n=0}^{\\infty} \\frac{(-1)^n}{2n+1}=1-\\frac{1}{3}+\\frac{1}{5}-\\frac{1}{7}+\\dots=\\frac{\\pi}{4}.$$\n",
    "\n",
    "Equivalentemente,\n",
    "\n",
    "$$4\\sum_{n=0}^{\\infty} \\frac{(-1)^n}{2n+1}=\\pi.$$\n",
    "\n",
    "El ejercicio consiste en obtener una aproximación del número $\\pi$ que sea correcta en las primeras cuatro cifras decimales. ¿Cuántos términos deben sumarse para ese fin?"
   ]
  },
  {
   "cell_type": "code",
   "execution_count": 49,
   "metadata": {},
   "outputs": [
    {
     "name": "stdout",
     "output_type": "stream",
     "text": [
      "El resultado de la suma es 3.14159165359\n"
     ]
    }
   ],
   "source": [
    "# Realicen la solución acá\n",
    "\n",
    "pi=(-1)**np.arange(1000000)/((2*np.arange(1000000))+1)\n",
    "suma=np.sum(pi)\n",
    "\n",
    "print('El resultado de la suma es', suma*4)"
   ]
  },
  {
   "cell_type": "markdown",
   "metadata": {},
   "source": [
    "___\n",
    "## 2. `matplotlib`\n",
    "En realidad trabajaremos con el paquete `pyplot` de la librería `matplotlib`.\n",
    "\n",
    "`matplotlib.pyplot` es una colección de funciones estilo comandos que hacen que `matplotlib` trabaje como `MATLAB`. Cada función de `pyplot` hace algún cambio en la figura, como por ejemplo crear una figura, crear un área para graficar, dibujar algunas líneas en el área para graficar, decorar la gráfica con etiquetas, etcétera.\n",
    "\n",
    "### 2.1 Tutorial básico\n",
    "Seguiremos el tutorial oficial de `pyplot`:\n",
    "- https://matplotlib.org/users/pyplot_tutorial.html"
   ]
  },
  {
   "cell_type": "markdown",
   "metadata": {},
   "source": [
    "Lo primero que hacemos es importar el paquete con el nombre *plt*, con la siguiente instrucción:"
   ]
  },
  {
   "cell_type": "code",
   "execution_count": 5,
   "metadata": {
    "collapsed": true
   },
   "outputs": [],
   "source": [
    "import matplotlib.pyplot as plt"
   ]
  },
  {
   "cell_type": "markdown",
   "metadata": {},
   "source": [
    "Es importante que cada vez que hagamos un gráfico, aparezca en esta misma ventana, para no estar abriendo nuevas. Para ello insertamos la siguiente instrucción"
   ]
  },
  {
   "cell_type": "code",
   "execution_count": 6,
   "metadata": {
    "collapsed": true
   },
   "outputs": [],
   "source": [
    "%matplotlib inline"
   ]
  },
  {
   "cell_type": "code",
   "execution_count": 30,
   "metadata": {},
   "outputs": [
    {
     "data": {
      "image/png": "[encoded data removed]",
      "text/plain": [
       "<matplotlib.figure.Figure at 0x7fd9f9426a90>"
      ]
     },
     "metadata": {},
     "output_type": "display_data"
    }
   ],
   "source": [
    "plt.plot([1,2,3,4])\n",
    "plt.ylabel('some numbers')\n",
    "plt.show()"
   ]
  },
  {
   "cell_type": "markdown",
   "metadata": {},
   "source": [
    "¿Porqué el eje $x$ va de 0 a 3 y el eje $y$ va de 1 a 4? Si le das al comando `plot()` un solo arreglo, `matplotlib` supone que es una secuencia de valores, y genera los valores del eje $x$ automáticamente. Como los índices en `Python` empiezan en $0$, el valor por defecto de $x$ es un vector con la misma longitud que el ingresado pero empezando en $0$.\n",
    "\n",
    "El comando `plot()` es muy versátil, y puede tomar un número arbitrario de comandos. Por ejemplo:"
   ]
  },
  {
   "cell_type": "code",
   "execution_count": 31,
   "metadata": {},
   "outputs": [
    {
     "data": {
      "image/png": "[encoded data removed]",
      "text/plain": [
       "<matplotlib.figure.Figure at 0x7fd9f94fbef0>"
      ]
     },
     "metadata": {},
     "output_type": "display_data"
    }
   ],
   "source": [
    "plt.plot([1,2,3,4], [1,4,9,16], 'ro')\n",
    "plt.axis([0, 6, 0, 20])\n",
    "plt.show()"
   ]
  },
  {
   "cell_type": "markdown",
   "metadata": {},
   "source": [
    "Por favor ver la ayuda del comando `plot()` mostrada a continuación para una lista completa de estilos de línea y colores, además de otros argumentos."
   ]
  },
  {
   "cell_type": "code",
   "execution_count": 23,
   "metadata": {},
   "outputs": [
    {
     "ename": "SyntaxError",
     "evalue": "invalid syntax (<ipython-input-23-8e354c35fe2d>, line 1)",
     "output_type": "error",
     "traceback": [
      "\u001b[1;36m  File \u001b[1;32m\"<ipython-input-23-8e354c35fe2d>\"\u001b[1;36m, line \u001b[1;32m1\u001b[0m\n\u001b[1;33m    help(plt.plot)x\u001b[0m\n\u001b[1;37m                  ^\u001b[0m\n\u001b[1;31mSyntaxError\u001b[0m\u001b[1;31m:\u001b[0m invalid syntax\n"
     ]
    }
   ],
   "source": [
    "help(plt.plot)x"
   ]
  },
  {
   "cell_type": "markdown",
   "metadata": {},
   "source": [
    "Graficaremos las funciones $y=x$, $y=x^2$ y $y=x^3$. Para ello, veremos que `pyplot`trabaja directamente con `NumPy`."
   ]
  },
  {
   "cell_type": "code",
   "execution_count": 61,
   "metadata": {},
   "outputs": [
    {
     "data": {
      "image/png": "[encoded data removed]",
      "text/plain": [
       "<matplotlib.figure.Figure at 0x7fd9f94ae438>"
      ]
     },
     "metadata": {},
     "output_type": "display_data"
    }
   ],
   "source": [
    "import numpy as np\n",
    "\n",
    "# Vector de x de 0 a 5 con espaciado de 0.2\n",
    "x = np.arange(0., 5., 0.2)\n",
    "\n",
    "# Función lineal (linea discontinua roja), función cuadrática (cuadrados azules), función cública (triángulos verdes)\n",
    "plt.plot(x, x, 'r--', x, x**2, 'bs', x, x**3, 'g^')\n",
    "plt.show()"
   ]
  },
  {
   "cell_type": "markdown",
   "metadata": {},
   "source": [
    "Es útil poder incluir información en la gráfica tal como etiquetas de los ejes, o si se tienen varias líneas en una misma gráfica, etiquetas de las líneas. Ver el siguiente ejemplo"
   ]
  },
  {
   "cell_type": "code",
   "execution_count": 40,
   "metadata": {},
   "outputs": [
    {
     "data": {
      "image/png": "[encoded data removed]",
      "text/plain": [
       "<matplotlib.figure.Figure at 0x7fd9f95a4128>"
      ]
     },
     "metadata": {},
     "output_type": "display_data"
    }
   ],
   "source": [
    "# Vector de x de 0 a 5 con espaciado de 0.2\n",
    "x = np.arange(0., 2., 0.2)\n",
    "\n",
    "# Función lineal (linea discontinua roja), función cuadrática (cuadrados azules), función cública (triángulos verdes)\n",
    "plt.plot(x, x, 'r--', label='Función lineal $y=x$')\n",
    "plt.plot(x, x**2, 'bs', label='Función cuadrática $y=x^2$')\n",
    "plt.plot(x, x**3, 'g^', label='Función cúbica $y=x^3$')\n",
    "plt.legend(loc='best')\n",
    "plt.xlabel('x')\n",
    "plt.ylabel('y')\n",
    "plt.show()"
   ]
  },
  {
   "cell_type": "markdown",
   "metadata": {},
   "source": [
    "Con `pyplot` también es posible tener varios subgráficos en una misma figura. Para ello se utiliza el comando `subplot()`, al cual se le ingresa una tripleta $mnp$, donde $m$ es el número de filas, $n$ es el número de columnas y $p$ la subfigura donde se va a graficar. Las mismas tres funciones anteriores las graficaremos usando subgráficos"
   ]
  },
  {
   "cell_type": "code",
   "execution_count": 46,
   "metadata": {},
   "outputs": [
    {
     "data": {
      "image/png": "[encoded data removed]",
      "text/plain": [
       "<matplotlib.figure.Figure at 0x7fd9f8d462b0>"
      ]
     },
     "metadata": {},
     "output_type": "display_data"
    }
   ],
   "source": [
    "plt.figure(figsize=(12,5))\n",
    "plt.subplot(131)\n",
    "plt.plot(x, x, 'r--', label='Función lineal $y=x$')\n",
    "plt.xlabel('$x$')\n",
    "plt.ylabel('$y=x$')\n",
    "\n",
    "plt.subplot(132)\n",
    "plt.plot(x, x**2, 'bs', label='Función cuadrática $y=x^2$')\n",
    "plt.xlabel('$x$')\n",
    "plt.ylabel('$y=x^2$')\n",
    "\n",
    "plt.subplot(133)\n",
    "plt.plot(x, x**3, 'g^', label='Función cúbica $y=x^3$')\n",
    "plt.xlabel('$x$')\n",
    "plt.ylabel('$y=x^3$')\n",
    "\n",
    "plt.show()"
   ]
  },
  {
   "cell_type": "markdown",
   "metadata": {},
   "source": [
    "### 2.2 Ejercicios con  `matplotlib`\n",
    "\n",
    "#### 2.2.1 Aproximando una señal cuadrada\n",
    "**Teorema de Fourier.** Cualquier función periódica, con periodo $T$, se puede representar como suma de funciones sinusoides de frecuencias $f$, $2f$, $3f$, $\\dots$ , llamadas armónicos. (La relación entre el periodo y la frecuencia es $f=\\frac{1}{T}$).\n",
    "\n",
    "La onda cuadrada de periodo $2\\pi$ es la función periódica definida por\n",
    "\n",
    "$$f(x)=\\left\\lbrace\\begin{array}{ccc}1 & \\text{si} & 0\\leq x<\\pi \\\\ -1 & \\text{si} & \\pi\\leq x<2\\pi \\end{array}\\right.,$$\n",
    "\n",
    "con $f(x+2\\pi)=f(x)$.\n",
    "\n",
    "Por el teorema de Fourier, esta función se puede representar con la siguiente serie\n",
    "\n",
    "$$f(x)=\\sum_{n=0}^{\\infty} \\frac{4}{\\pi(2n+1)}\\sin\\left((2n+1)x\\right).$$\n",
    "\n",
    "Graficaremos la suma con los primeros cinco términos."
   ]
  },
  {
   "cell_type": "code",
   "execution_count": 62,
   "metadata": {},
   "outputs": [
    {
     "data": {
      "image/png": "[encoded data removed]",
      "text/plain": [
       "<matplotlib.figure.Figure at 0x7fd9f8ff0198>"
      ]
     },
     "metadata": {},
     "output_type": "display_data"
    }
   ],
   "source": [
    "def termino(x, n):\n",
    "    return 4*np.sin((2*n+1)*x)/(np.pi*(2*n+1))\n",
    "\n",
    "N = 5\n",
    "x = np.arange(0, 2*np.pi, 0.01)\n",
    "\n",
    "f = np.zeros(len(x))\n",
    "f[x<np.pi] = 1\n",
    "f[x>=np.pi] = -1\n",
    "\n",
    "plt.plot(x, f, 'r--', label='Función onda cuadrada')\n",
    "\n",
    "aprox = np.zeros(len(x))\n",
    "for i in range(N):\n",
    "    aprox += termino(x, i)\n",
    "    plt.plot(x, aprox, label='Aproximación con %i términos'%(i+1))\n",
    "\n",
    "plt.legend(loc='center left', bbox_to_anchor=(1.05, 0.5), prop={'size': 10})\n",
    "plt.grid()\n",
    "plt.show()"
   ]
  },
  {
   "cell_type": "markdown",
   "metadata": {},
   "source": [
    "El ejercicio consiste en obtener la siguiente gráfica\n",
    "\n",
    "<img style=\"float: left; margin: 15px 15px 15px 15px;\" src=\"figura1.png\" title=\"figura1\" width=\"800\" height=\"500\" />"
   ]
  },
  {
   "cell_type": "code",
   "execution_count": 162,
   "metadata": {},
   "outputs": [
    {
     "ename": "SyntaxError",
     "evalue": "invalid syntax (<ipython-input-162-81683dc2bb22>, line 3)",
     "output_type": "error",
     "traceback": [
      "\u001b[1;36m  File \u001b[1;32m\"<ipython-input-162-81683dc2bb22>\"\u001b[1;36m, line \u001b[1;32m3\u001b[0m\n\u001b[1;33m    return(4*np.sin((2*n+1)x)/(np.pi(2*n+1)))\u001b[0m\n\u001b[1;37m                           ^\u001b[0m\n\u001b[1;31mSyntaxError\u001b[0m\u001b[1;31m:\u001b[0m invalid syntax\n"
     ]
    }
   ],
   "source": [
    "# Realicen la solución acá\n",
    "def termino(x, n):\n",
    "    return(4*np.sin((2*n+1)x)/(np.pi(2*n+1)))\n",
    "\n",
    "plt.figure(figsize=(10,4))\n",
    "           \n",
    "plt.subplot(131)\n",
    "N = 5\n",
    "x = np.arange(0, 2*np.pi, .01)\n",
    "\n",
    "f = np.zeros(len(x))\n",
    "f[x<np.pi] = 1\n",
    "f[x>=np.pi] = -1\n",
    "\n",
    "plt.plot(x, f, 'r--', label='Función onda cuadrada')\n",
    "\n",
    "aprox = np.zeros(len(x))\n",
    "for i in range(N):\n",
    "    aprox += termino(x, i)\n",
    "plt.plot(x, aprox, label='Aproximación con %i términos'%(i+1))\n",
    "\n",
    "plt.legend(loc=)\n",
    "plt.grid()\n",
    " \n",
    "plt.subplot(132)\n",
    "N = 10\n",
    "x = np.arange(0, 2*np.pi, .01)\n",
    "\n",
    "f = np.zeros(len(x))\n",
    "f[x<np.pi] = 1\n",
    "f[x>=np.pi] = -1\n",
    "\n",
    "plt.plot(x, f, 'r--', label='Función onda cuadrada')\n",
    "\n",
    "aprox = np.zeros(len(x))\n",
    "for i in range(N):\n",
    "    aprox += termino(x, i)\n",
    "plt.plot(x, aprox, label='Aproximación con %i términos'%(i+1))\n",
    "\n",
    "plt.legend(loc=\"best\")\n",
    "plt.grid()\n",
    "\n",
    "plt.subplot(133)\n",
    "N = 15\n",
    "x = np.arange(0, 2*np.pi, .01)\n",
    "\n",
    "f = np.zeros(len(x))\n",
    "f[x<np.pi] = 1\n",
    "f[x>=np.pi] = -1\n",
    "\n",
    "plt.plot(x, f, 'r--', label='Función onda cuadrada')\n",
    "\n",
    "aprox = np.zeros(len(x))\n",
    "for i in range(N):\n",
    "    aprox += termino(x, i)\n",
    "plt.plot(x, aprox, label='Aproximación con %i términos'%(i+1))\n",
    "\n",
    "plt.legend(loc=\"best\")\n",
    "plt.grid()"
   ]
  },
  {
   "cell_type": "markdown",
   "metadata": {},
   "source": [
    "#### 2.2.2 Determinación de una curva cuadrática\n",
    "\n",
    "Referencia:\n",
    "- http://cb.mty.itesm.mx/ma1010/materiales/ma1010-03.pdf\n",
    "\n",
    "Queremos determinar la función cudrática que pasa por los puntos $P(1,4)$, $Q(−1,2)$, y $R(2,3)$. Es decir, encontrar una función de la forma\n",
    "\n",
    "$$f(x)=ax^2+bx+c$$\n",
    "\n",
    "donde $a$, $b$ y $c$ son constantes. El problema es entonces encontrar estas constantes.\n",
    "\n",
    "Para que la función pase por el punto $P(1,4)$, se debe cumplir $f(1)=a+b+c=4$. Para que pase por $Q(−1,2)$, se debe satisfacer $f(-1)=a-b+c=2$. Finalmente, para que pase por $R(2,3)$, se debe cumplir $f(2)=4a+2b+c=3$.\n",
    "\n",
    "En conclusión, las constantes $a$, $b$ y $c$ deben satisfacer\n",
    "\n",
    "\\begin{align}\n",
    "a+b+c&=4\\\\\n",
    "a-b+c&=2\\\\\n",
    "4a+2b+c&=3.\n",
    "\\end{align}\n",
    "\n",
    "El ejercicio consiste en hallar $a$, $b$ y $c$ usando el paquete `linalg`. Después de ello, graficar los puntos junto con función resultante. La gráfica debe ser como la siguiente\n",
    "\n",
    "<img style=\"float: left; margin: 15px 15px 15px 15px;\" src=\"figura4.png\" title=\"figura4\" width=\"400\" height=\"200\" />"
   ]
  },
  {
   "cell_type": "code",
   "execution_count": 110,
   "metadata": {},
   "outputs": [
    {
     "data": {
      "text/plain": [
       "array([-0.66666667,  1.        ,  3.66666667])"
      ]
     },
     "execution_count": 110,
     "metadata": {},
     "output_type": "execute_result"
    }
   ],
   "source": [
    "import numpy as np\n",
    "a=np.array([[1,1,1],[1,-1,1],[4,2,1]])\n",
    "b=np.array([4,2,3])\n",
    "c=np.linalg.solve(a,b)\n",
    "c"
   ]
  },
  {
   "cell_type": "code",
   "execution_count": 131,
   "metadata": {},
   "outputs": [
    {
     "ename": "TypeError",
     "evalue": "'str' object is not callable",
     "output_type": "error",
     "traceback": [
      "\u001b[1;31m---------------------------------------------------------------------------\u001b[0m",
      "\u001b[1;31mTypeError\u001b[0m                                 Traceback (most recent call last)",
      "\u001b[1;32m<ipython-input-131-75312debe3b9>\u001b[0m in \u001b[0;36m<module>\u001b[1;34m()\u001b[0m\n\u001b[0;32m     10\u001b[0m \u001b[0mplt\u001b[0m\u001b[1;33m.\u001b[0m\u001b[0mplot\u001b[0m\u001b[1;33m(\u001b[0m\u001b[0mt\u001b[0m\u001b[1;33m,\u001b[0m \u001b[0mf\u001b[0m\u001b[1;33m(\u001b[0m\u001b[0mt\u001b[0m\u001b[1;33m)\u001b[0m\u001b[1;33m,\u001b[0m \u001b[1;34m'b'\u001b[0m\u001b[1;33m)\u001b[0m\u001b[1;33m\u001b[0m\u001b[0m\n\u001b[0;32m     11\u001b[0m \u001b[0mplt\u001b[0m\u001b[1;33m.\u001b[0m\u001b[0mgrid\u001b[0m\u001b[1;33m(\u001b[0m\u001b[1;33m)\u001b[0m\u001b[1;33m\u001b[0m\u001b[0m\n\u001b[1;32m---> 12\u001b[1;33m \u001b[0mplt\u001b[0m\u001b[1;33m.\u001b[0m\u001b[0mxlabel\u001b[0m\u001b[1;33m(\u001b[0m\u001b[1;34m'$x$'\u001b[0m\u001b[1;33m)\u001b[0m\u001b[1;33m\u001b[0m\u001b[0m\n\u001b[0m\u001b[0;32m     13\u001b[0m \u001b[0mplt\u001b[0m\u001b[1;33m.\u001b[0m\u001b[0mylabel\u001b[0m\u001b[1;33m(\u001b[0m\u001b[1;34m'$y=f(x)=8x^2bx+c$'\u001b[0m\u001b[1;33m)\u001b[0m\u001b[1;33m\u001b[0m\u001b[0m\n\u001b[0;32m     14\u001b[0m \u001b[0mplt\u001b[0m\u001b[1;33m.\u001b[0m\u001b[0mshow\u001b[0m\u001b[1;33m(\u001b[0m\u001b[1;33m)\u001b[0m\u001b[1;33m\u001b[0m\u001b[0m\n",
      "\u001b[1;31mTypeError\u001b[0m: 'str' object is not callable"
     ]
    },
    {
     "data": {
      "image/png": "[encoded data removed]",
      "text/plain": [
       "<matplotlib.figure.Figure at 0x16db77524a8>"
      ]
     },
     "metadata": {},
     "output_type": "display_data"
    }
   ],
   "source": [
    "import numpy as np\n",
    "import matplotlib.pyplot as plt\n",
    "def f(t):\n",
    "    return (((-0.66666667*(t**2))+t+3.66666667))\n",
    "t = np.arange(-1, 2, 0.02)\n",
    "\n",
    "plt.figure(figsize=(6,4))\n",
    "plt.plot([1,-1,2],[4,2,3],'ro')\n",
    "plt.axis([-1.5,2.5,1.8,4.3])\n",
    "plt.plot(t, f(t), 'b')\n",
    "plt.grid()\n",
    "plt.xlabel('$x$')\n",
    "plt.ylabel('$y=f(x)=8x^2bx+c$')\n",
    "plt.show()"
   ]
  },
  {
   "cell_type": "markdown",
   "metadata": {},
   "source": [
    "___\n",
    "## 3. `odeint`\n",
    "La función `odeint` del paquete `integrate` de la librearía `SciPy` sirve para integrar un sistema de ecuaciones diferenciales ordinarias (EDO), utilizando la función `lsoda` de la librería `odepack` de `FORTRAN`.\n",
    "\n",
    "### 3.1 Uso básico de `odeint`\n",
    "Lo primero que debemos hacer es importar esta función:"
   ]
  },
  {
   "cell_type": "code",
   "execution_count": 2,
   "metadata": {
    "collapsed": true
   },
   "outputs": [],
   "source": [
    "from scipy.integrate import odeint"
   ]
  },
  {
   "cell_type": "markdown",
   "metadata": {},
   "source": [
    "Por favor ver la ayuda del comando `odeint()` mostrada a continuación para ver como se utiliza la función."
   ]
  },
  {
   "cell_type": "code",
   "execution_count": 3,
   "metadata": {},
   "outputs": [
    {
     "name": "stdout",
     "output_type": "stream",
     "text": [
      "Help on function odeint in module scipy.integrate.odepack:\n",
      "\n",
      "odeint(func, y0, t, args=(), Dfun=None, col_deriv=0, full_output=0, ml=None, mu=None, rtol=None, atol=None, tcrit=None, h0=0.0, hmax=0.0, hmin=0.0, ixpr=0, mxstep=0, mxhnil=0, mxordn=12, mxords=5, printmessg=0)\n",
      "    Integrate a system of ordinary differential equations.\n",
      "    \n",
      "    Solve a system of ordinary differential equations using lsoda from the\n",
      "    FORTRAN library odepack.\n",
      "    \n",
      "    Solves the initial value problem for stiff or non-stiff systems\n",
      "    of first order ode-s::\n",
      "    \n",
      "        dy/dt = func(y, t0, ...)\n",
      "    \n",
      "    where y can be a vector.\n",
      "    \n",
      "    *Note*: The first two arguments of ``func(y, t0, ...)`` are in the\n",
      "    opposite order of the arguments in the system definition function used\n",
      "    by the `scipy.integrate.ode` class.\n",
      "    \n",
      "    Parameters\n",
      "    ----------\n",
      "    func : callable(y, t0, ...)\n",
      "        Computes the derivative of y at t0.\n",
      "    y0 : array\n",
      "        Initial condition on y (can be a vector).\n",
      "    t : array\n",
      "        A sequence of time points for which to solve for y.  The initial\n",
      "        value point should be the first element of this sequence.\n",
      "    args : tuple, optional\n",
      "        Extra arguments to pass to function.\n",
      "    Dfun : callable(y, t0, ...)\n",
      "        Gradient (Jacobian) of `func`.\n",
      "    col_deriv : bool, optional\n",
      "        True if `Dfun` defines derivatives down columns (faster),\n",
      "        otherwise `Dfun` should define derivatives across rows.\n",
      "    full_output : bool, optional\n",
      "        True if to return a dictionary of optional outputs as the second output\n",
      "    printmessg : bool, optional\n",
      "        Whether to print the convergence message\n",
      "    \n",
      "    Returns\n",
      "    -------\n",
      "    y : array, shape (len(t), len(y0))\n",
      "        Array containing the value of y for each desired time in t,\n",
      "        with the initial value `y0` in the first row.\n",
      "    infodict : dict, only returned if full_output == True\n",
      "        Dictionary containing additional output information\n",
      "    \n",
      "        =======  ============================================================\n",
      "        key      meaning\n",
      "        =======  ============================================================\n",
      "        'hu'     vector of step sizes successfully used for each time step.\n",
      "        'tcur'   vector with the value of t reached for each time step.\n",
      "                 (will always be at least as large as the input times).\n",
      "        'tolsf'  vector of tolerance scale factors, greater than 1.0,\n",
      "                 computed when a request for too much accuracy was detected.\n",
      "        'tsw'    value of t at the time of the last method switch\n",
      "                 (given for each time step)\n",
      "        'nst'    cumulative number of time steps\n",
      "        'nfe'    cumulative number of function evaluations for each time step\n",
      "        'nje'    cumulative number of jacobian evaluations for each time step\n",
      "        'nqu'    a vector of method orders for each successful step.\n",
      "        'imxer'  index of the component of largest magnitude in the\n",
      "                 weighted local error vector (e / ewt) on an error return, -1\n",
      "                 otherwise.\n",
      "        'lenrw'  the length of the double work array required.\n",
      "        'leniw'  the length of integer work array required.\n",
      "        'mused'  a vector of method indicators for each successful time step:\n",
      "                 1: adams (nonstiff), 2: bdf (stiff)\n",
      "        =======  ============================================================\n",
      "    \n",
      "    Other Parameters\n",
      "    ----------------\n",
      "    ml, mu : int, optional\n",
      "        If either of these are not None or non-negative, then the\n",
      "        Jacobian is assumed to be banded.  These give the number of\n",
      "        lower and upper non-zero diagonals in this banded matrix.\n",
      "        For the banded case, `Dfun` should return a matrix whose\n",
      "        rows contain the non-zero bands (starting with the lowest diagonal).\n",
      "        Thus, the return matrix `jac` from `Dfun` should have shape\n",
      "        ``(ml + mu + 1, len(y0))`` when ``ml >=0`` or ``mu >=0``.\n",
      "        The data in `jac` must be stored such that ``jac[i - j + mu, j]``\n",
      "        holds the derivative of the `i`th equation with respect to the `j`th\n",
      "        state variable.  If `col_deriv` is True, the transpose of this\n",
      "        `jac` must be returned.\n",
      "    rtol, atol : float, optional\n",
      "        The input parameters `rtol` and `atol` determine the error\n",
      "        control performed by the solver.  The solver will control the\n",
      "        vector, e, of estimated local errors in y, according to an\n",
      "        inequality of the form ``max-norm of (e / ewt) <= 1``,\n",
      "        where ewt is a vector of positive error weights computed as\n",
      "        ``ewt = rtol * abs(y) + atol``.\n",
      "        rtol and atol can be either vectors the same length as y or scalars.\n",
      "        Defaults to 1.49012e-8.\n",
      "    tcrit : ndarray, optional\n",
      "        Vector of critical points (e.g. singularities) where integration\n",
      "        care should be taken.\n",
      "    h0 : float, (0: solver-determined), optional\n",
      "        The step size to be attempted on the first step.\n",
      "    hmax : float, (0: solver-determined), optional\n",
      "        The maximum absolute step size allowed.\n",
      "    hmin : float, (0: solver-determined), optional\n",
      "        The minimum absolute step size allowed.\n",
      "    ixpr : bool, optional\n",
      "        Whether to generate extra printing at method switches.\n",
      "    mxstep : int, (0: solver-determined), optional\n",
      "        Maximum number of (internally defined) steps allowed for each\n",
      "        integration point in t.\n",
      "    mxhnil : int, (0: solver-determined), optional\n",
      "        Maximum number of messages printed.\n",
      "    mxordn : int, (0: solver-determined), optional\n",
      "        Maximum order to be allowed for the non-stiff (Adams) method.\n",
      "    mxords : int, (0: solver-determined), optional\n",
      "        Maximum order to be allowed for the stiff (BDF) method.\n",
      "    \n",
      "    See Also\n",
      "    --------\n",
      "    ode : a more object-oriented integrator based on VODE.\n",
      "    quad : for finding the area under a curve.\n",
      "    \n",
      "    Examples\n",
      "    --------\n",
      "    The second order differential equation for the angle `theta` of a\n",
      "    pendulum acted on by gravity with friction can be written::\n",
      "    \n",
      "        theta''(t) + b*theta'(t) + c*sin(theta(t)) = 0\n",
      "    \n",
      "    where `b` and `c` are positive constants, and a prime (') denotes a\n",
      "    derivative.  To solve this equation with `odeint`, we must first convert\n",
      "    it to a system of first order equations.  By defining the angular\n",
      "    velocity ``omega(t) = theta'(t)``, we obtain the system::\n",
      "    \n",
      "        theta'(t) = omega(t)\n",
      "        omega'(t) = -b*omega(t) - c*sin(theta(t))\n",
      "    \n",
      "    Let `y` be the vector [`theta`, `omega`].  We implement this system\n",
      "    in python as:\n",
      "    \n",
      "    >>> def pend(y, t, b, c):\n",
      "    ...     theta, omega = y\n",
      "    ...     dydt = [omega, -b*omega - c*np.sin(theta)]\n",
      "    ...     return dydt\n",
      "    ...\n",
      "    \n",
      "    We assume the constants are `b` = 0.25 and `c` = 5.0:\n",
      "    \n",
      "    >>> b = 0.25\n",
      "    >>> c = 5.0\n",
      "    \n",
      "    For initial conditions, we assume the pendulum is nearly vertical\n",
      "    with `theta(0)` = `pi` - 0.1, and it initially at rest, so\n",
      "    `omega(0)` = 0.  Then the vector of initial conditions is\n",
      "    \n",
      "    >>> y0 = [np.pi - 0.1, 0.0]\n",
      "    \n",
      "    We generate a solution 101 evenly spaced samples in the interval\n",
      "    0 <= `t` <= 10.  So our array of times is:\n",
      "    \n",
      "    >>> t = np.linspace(0, 10, 101)\n",
      "    \n",
      "    Call `odeint` to generate the solution.  To pass the parameters\n",
      "    `b` and `c` to `pend`, we give them to `odeint` using the `args`\n",
      "    argument.\n",
      "    \n",
      "    >>> from scipy.integrate import odeint\n",
      "    >>> sol = odeint(pend, y0, t, args=(b, c))\n",
      "    \n",
      "    The solution is an array with shape (101, 2).  The first column\n",
      "    is `theta(t)`, and the second is `omega(t)`.  The following code\n",
      "    plots both components.\n",
      "    \n",
      "    >>> import matplotlib.pyplot as plt\n",
      "    >>> plt.plot(t, sol[:, 0], 'b', label='theta(t)')\n",
      "    >>> plt.plot(t, sol[:, 1], 'g', label='omega(t)')\n",
      "    >>> plt.legend(loc='best')\n",
      "    >>> plt.xlabel('t')\n",
      "    >>> plt.grid()\n",
      "    >>> plt.show()\n",
      "\n"
     ]
    }
   ],
   "source": [
    "help(odeint)"
   ]
  },
  {
   "cell_type": "markdown",
   "metadata": {},
   "source": [
    "De forma básica, deben ingresar tres argumentos de la forma `odeint(func, y0, t)`, donde:\n",
    "- *func* es una función de las variables a integrar y el tiempo, es decir *func(y, t)*.\n",
    "- *y0* son las condiciones iniciales.\n",
    "- *t* es el vector de tiempo que especifica los puntos donde se quiere tener la solución.\n",
    "\n",
    "**Ejemplo**. Considere la siguiente ecuación diferencial lineal de primer orden:\n",
    "\n",
    "$$\\frac{dx}{dt}=ax,$$\n",
    "\n",
    "donde $a$ es un parámetro, sujeta a la condición inicial $x(0)=x_0$. Resolveremos el caso con $a = -1$ y $x_0 = 10$."
   ]
  },
  {
   "cell_type": "code",
   "execution_count": 7,
   "metadata": {},
   "outputs": [
    {
     "data": {
      "image/png": "[encoded data removed]",
      "text/plain": [
       "<matplotlib.figure.Figure at 0x7f50e60f2048>"
      ]
     },
     "metadata": {},
     "output_type": "display_data"
    }
   ],
   "source": [
    "a, x0 = -1, 10\n",
    "\n",
    "def f(x, t):\n",
    "    return a*x\n",
    "\n",
    "tt = np.linspace(0, 10, 100)\n",
    "xx = odeint(f, x0, tt)\n",
    "\n",
    "plt.figure()\n",
    "plt.plot(tt, xx, '--r', linewidth = 3)\n",
    "plt.xlabel('$t$')\n",
    "plt.ylabel('$x(t)$')\n",
    "plt.grid()\n",
    "plt.show()"
   ]
  },
  {
   "cell_type": "markdown",
   "metadata": {},
   "source": [
    "### 3.2 Ejercicios con `odeint`\n",
    "\n",
    "#### 3.2.1 Solución numérica de sistemas lineales invariantes en el tiempo (SLIT)\n",
    "Un sistema lineal invariante en el tiempo tiene la forma\n",
    "\n",
    "$$\\left\\lbrace\\begin{array}{c}\\frac{dx(t)}{dt}=Ax(t) \\\\ x(0)=x_0,\\end{array}\\right.$$\n",
    "\n",
    "con $x(t)\\in\\mathbb{R}^n$ un vector que representa el *estado* del sistema, $A\\in\\mathbb{R}^{n\\times n}$ una matriz de *transferencia* y $x_0\\in\\mathbb{R}^n$ el vector de estado inicial."
   ]
  },
  {
   "cell_type": "markdown",
   "metadata": {},
   "source": [
    "El ejercicio consiste en desarrollar un código que resuelva un sistema lineal invariante en el tiempo dado.\n",
    "\n",
    "**Tip.** usar la siguiente función y ver cómo usar `odeint` (ver en el *help*) para pasarle la una matriz dada a esta función:"
   ]
  },
  {
   "cell_type": "code",
   "execution_count": 21,
   "metadata": {
    "collapsed": true
   },
   "outputs": [],
   "source": [
    "# Poner la solución acá\n",
    "import numpy as np\n",
    "import matplotlib.pyplot as plt\n",
    "from scipy.integrate import odeint\n",
    "\n",
    "def lineal(x, t, A):\n",
    "    return np.dot(A, x)\n",
    "\n"
   ]
  },
  {
   "cell_type": "code",
   "execution_count": 28,
   "metadata": {
    "collapsed": true
   },
   "outputs": [],
   "source": [
    "def linear_solver(A, x0, t):\n",
    "    return odeint(lineal, x0, t, (A,))"
   ]
  },
  {
   "cell_type": "code",
   "execution_count": null,
   "metadata": {},
   "outputs": [],
   "source": []
  },
  {
   "cell_type": "markdown",
   "metadata": {},
   "source": [
    "#### 3.2.2 Sistema masa-resorte\n",
    "Recordemos que el sistema masa-resorte viene descrito por la ecuación\n",
    "\n",
    "\\begin{equation}\n",
    "\\frac{d^2y}{dt^2} + \\frac{k}{m}y = 0,\n",
    "\\end{equation}\n",
    "\n",
    "donde $y$ es la posición de la masa, $\\frac{dy}{dt}$ es la velocidad de la misma, $k$ es la constante de elasticidad del resorte y $m$ es la masa.\n",
    "\n",
    "Notemos que eligiendo $x_1=y$ y $x_2=\\frac{dy}{dt}$, y el vector $x=\\left[x_1 \\quad x_2\\right]^T\\in\\mathbb{R}^2$, el anterior sistema se puede representar como en el ejercicio anterior\n",
    "\n",
    "$$\\frac{dx}{dt}=\\left[\\begin{array}{c} \\frac{dx_1}{dt} \\\\ \\frac{dx_2}{dt}\\end{array}\\right]=\\left[\\begin{array}{cc} 0 & 1 \\\\ -\\frac{k}{m} & 0 \\end{array}\\right]\\left[\\begin{array}{c} x_1 \\\\ x_2\\end{array}\\right]=Ax$$\n",
    "\n",
    "El ejercicio consiste en obtener la solución numérica para este sistema usando el código desarrollado en el punto anterior. Las constantes para el ejercicio serán $m = 5$ y $k = 200$, y las condiciones iniciales $x_0 =  \\left[1 \\quad 0\\right]^T$.\n",
    "\n",
    "Graficar las soluciones y el espacio fase."
   ]
  },
  {
   "cell_type": "code",
   "execution_count": 29,
   "metadata": {},
   "outputs": [],
   "source": [
    "# Resolver acá\n",
    "k, m=5, 200\n",
    "x0 = [1,0]\n",
    "A=np.array([[0,1],[-k/m,0]])\n",
    "t=np.linspace(0, 15)\n",
    "xx=linear_solver(A, x0 ,t)"
   ]
  },
  {
   "cell_type": "code",
   "execution_count": 35,
   "metadata": {},
   "outputs": [
    {
     "data": {
      "image/png": "[encoded data removed]",
      "text/plain": [
       "<matplotlib.figure.Figure at 0x16db3f914a8>"
      ]
     },
     "metadata": {},
     "output_type": "display_data"
    }
   ],
   "source": [
    "xx.shape    #Esto es para ver las matrices resultantes que serían 2 porque tenemos x1 y x2 y luego las podemos separar\n",
    "x1=xx[:,0]\n",
    "x2=xx[:,1]\n",
    "\n",
    "plt.figure(figsize=(6,4))\n",
    "plt.plot(t, x1, label ='$x_1$')\n",
    "plt.plot(t, x2, label ='$x_2$')\n",
    "plt.legend(loc='best')\n",
    "plt.title('Población')\n",
    "plt.xlabel=('$t$')\n",
    "plt.ylabel=('$x_1$', '$x_2$')\n",
    "plt.grid()\n",
    "plt.show()"
   ]
  },
  {
   "cell_type": "code",
   "execution_count": 168,
   "metadata": {},
   "outputs": [
    {
     "data": {
      "image/png": "[encoded data removed]",
      "text/plain": [
       "<matplotlib.figure.Figure at 0x16db7be5780>"
      ]
     },
     "metadata": {},
     "output_type": "display_data"
    }
   ],
   "source": [
    "k, m=5, 200\n",
    "x0 = [1,0]\n",
    "A=np.array([[0,1],[-k/m,0]])\n",
    "t=np.linspace(0, 100, 1000)\n",
    "xx=linear_solver(A, x0 ,t)\n",
    "\n",
    "x1=xx[:,0]\n",
    "x2=xx[:,1]\n",
    "\n",
    "plt.figure(figsize=(10,5))\n",
    "plt.plot(x1, x2, label ='$Fase$')\n",
    "plt.legend(loc='best')\n",
    "plt.title('Fase')\n",
    "plt.xlabel=('$x$')\n",
    "plt.ylabel=('$x_1$', '$x_2$')\n",
    "plt.grid()\n",
    "plt.show()"
   ]
  },
  {
   "cell_type": "markdown",
   "metadata": {},
   "source": [
    "**Resolver todos los puntos en este mismo archivo, modificar el nombre del archivo a *tarea3_NombreApellido* y subirlo a moodle.**"
   ]
  },
  {
   "cell_type": "markdown",
   "metadata": {},
   "source": [
    "<script>\n",
    "  $(document).ready(function(){\n",
    "    $('div.prompt').hide();\n",
    "    $('div.back-to-top').hide();\n",
    "    $('nav#menubar').hide();\n",
    "    $('.breadcrumb').hide();\n",
    "    $('.hidden-print').hide();\n",
    "  });\n",
    "</script>\n",
    "\n",
    "<footer id=\"attribution\" style=\"float:right; color:#808080; background:#fff;\">\n",
    "Created with Jupyter by Esteban Jiménez Rodríguez.\n",
    "</footer>"
   ]
  }
 ],
 "metadata": {
  "kernelspec": {
   "display_name": "Python 3",
   "language": "python",
   "name": "python3"
  },
  "language_info": {
   "codemirror_mode": {
    "name": "ipython",
    "version": 3
   },
   "file_extension": ".py",
   "mimetype": "text/x-python",
   "name": "python",
   "nbconvert_exporter": "python",
   "pygments_lexer": "ipython3",
   "version": "3.6.1"
  }
 },
 "nbformat": 4,
 "nbformat_minor": 2
}
